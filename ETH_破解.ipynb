{
  "nbformat": 4,
  "nbformat_minor": 0,
  "metadata": {
    "colab": {
      "name": "ETH 破解.ipynb",
      "provenance": [],
      "collapsed_sections": [],
      "authorship_tag": "ABX9TyO7wVPfrXVgYimLbp2eQxQ7",
      "include_colab_link": true
    },
    "kernelspec": {
      "name": "python3",
      "display_name": "Python 3"
    },
    "language_info": {
      "name": "python"
    },
    "accelerator": "GPU"
  },
  "cells": [
    {
      "cell_type": "markdown",
      "metadata": {
        "id": "view-in-github",
        "colab_type": "text"
      },
      "source": [
        "<a href=\"https://colab.research.google.com/github/hibana2077/Fail-Side-Projects/blob/main/ETH_%E7%A0%B4%E8%A7%A3.ipynb\" target=\"_parent\"><img src=\"https://colab.research.google.com/assets/colab-badge.svg\" alt=\"Open In Colab\"/></a>"
      ]
    },
    {
      "cell_type": "code",
      "source": [
        "from numba import cuda"
      ],
      "metadata": {
        "id": "jE4_Yrc9KhSs"
      },
      "execution_count": 9,
      "outputs": []
    },
    {
      "cell_type": "code",
      "source": [
        "from ethereum import utils\n",
        "import os\n",
        "\n",
        "privKey = utils.sha3(os.urandom(4096))\n",
        "print(privKey)"
      ],
      "metadata": {
        "colab": {
          "base_uri": "https://localhost:8080/"
        },
        "id": "oAZDnXVhGFAG",
        "outputId": "19579a2b-69f0-4b17-dac9-cbc486784af6"
      },
      "execution_count": 2,
      "outputs": [
        {
          "output_type": "stream",
          "name": "stdout",
          "text": [
            "b'\\xbc\\xf6+\\xc9\\xcb\\xd8%\\xe6\\xc1\\x81\\xe1*!\\xb8\\xdf\\x0e\\x92\\x89W\\xf8\\xfc[\\x84\\xe9\\xb7\\xe2^@x\\x82w\\xd5'\n"
          ]
        }
      ]
    },
    {
      "cell_type": "code",
      "source": [
        "rawAddress = utils.privtoaddr(privKey)\n",
        "accAddress = utils.checksum_encode(rawAddress)\n",
        "print(accAddress)"
      ],
      "metadata": {
        "colab": {
          "base_uri": "https://localhost:8080/"
        },
        "id": "VPQ272_bGOPb",
        "outputId": "d3127019-afc8-4507-dabc-c9b75b6bd531"
      },
      "execution_count": 3,
      "outputs": [
        {
          "output_type": "stream",
          "name": "stdout",
          "text": [
            "0x24e8dC43B9a87122726Cf4B4B6Ad8898AEa072A5\n"
          ]
        }
      ]
    },
    {
      "cell_type": "code",
      "source": [
        "def createAddress():\n",
        "  privKey = utils.sha3(os.urandom(4096))\n",
        "  rawAddress = utils.privtoaddr(privKey)\n",
        "  accAddress = utils.checksum_encode(rawAddress)\n",
        "  return privKey, accAddress"
      ],
      "metadata": {
        "id": "qoPPCHOUGW41"
      },
      "execution_count": 4,
      "outputs": []
    },
    {
      "cell_type": "code",
      "source": [
        "tar_text='2FA'\n",
        "while True:\n",
        "  privKey, accAddress = createAddress()\n",
        "\n",
        "  if '2FA' == accAddress[2:2+3]:\n",
        "    accPrivateKey = utils.encode_hex(privKey)\n",
        "    print(\"Found address: {}\".format(accAddress))\n",
        "    print(\"Private Key (hex) {}\".format(accPrivateKey))\n",
        "    break"
      ],
      "metadata": {
        "colab": {
          "base_uri": "https://localhost:8080/"
        },
        "id": "k-Jfub2jGY0c",
        "outputId": "e660cd4c-4356-49ea-87f9-f145de9b40d3"
      },
      "execution_count": 13,
      "outputs": [
        {
          "output_type": "stream",
          "name": "stdout",
          "text": [
            "Found address: 0x2FA20F0F365e4725AB5Df9383f3A516aAA9C4D87\n",
            "Private Key (hex) 10c55e55cc7196688962b50c7cf9ab159695d4dd5b87be343a8c7fa3e9d7b2df\n"
          ]
        }
      ]
    },
    {
      "cell_type": "code",
      "source": [
        "import numba\n",
        "numba.__version__"
      ],
      "metadata": {
        "colab": {
          "base_uri": "https://localhost:8080/",
          "height": 35
        },
        "id": "rEfAYKetN3tz",
        "outputId": "7c2a3dea-83fa-421f-c160-dc48dbb86f00"
      },
      "execution_count": 26,
      "outputs": [
        {
          "output_type": "execute_result",
          "data": {
            "text/plain": [
              "'0.51.2'"
            ],
            "application/vnd.google.colaboratory.intrinsic+json": {
              "type": "string"
            }
          },
          "metadata": {},
          "execution_count": 26
        }
      ]
    },
    {
      "cell_type": "code",
      "source": [
        "from numba import jit\n",
        "import numpy as np\n",
        "from timeit import default_timer as timer\n",
        "# To run on CPU\n",
        "def func(a):\n",
        "    for i in range(10000000):\n",
        "        a[i]+= 1\n",
        "# To run on GPU\n",
        "@jit\n",
        "def func2(x):\n",
        "    return x+1\n",
        "if __name__==\"__main__\":\n",
        "    n = 10000000\n",
        "    a = np.ones(n, dtype = np.float64)\n",
        "    start = timer()\n",
        "    func(a)\n",
        "    print(\"without GPU:\", timer()-start)\n",
        "    start = timer()\n",
        "    func2(a)\n",
        "    numba.cuda.profile_stop()\n",
        "    print(\"with GPU:\", timer()-start)"
      ],
      "metadata": {
        "colab": {
          "base_uri": "https://localhost:8080/"
        },
        "id": "i2jzaOO4OFkm",
        "outputId": "11c97f49-f9e4-4a6c-fa5b-1529b685ace8"
      },
      "execution_count": 27,
      "outputs": [
        {
          "output_type": "stream",
          "name": "stdout",
          "text": [
            "without GPU: 3.5832067370001823\n",
            "with GPU: 0.3723469449996628\n"
          ]
        }
      ]
    },
    {
      "cell_type": "code",
      "source": [
        "! nvidia-smi"
      ],
      "metadata": {
        "colab": {
          "base_uri": "https://localhost:8080/"
        },
        "id": "iiSstG5dPpve",
        "outputId": "4beb884c-69c8-41a2-beba-46ee8a21c88a"
      },
      "execution_count": 5,
      "outputs": [
        {
          "output_type": "stream",
          "name": "stdout",
          "text": [
            "Wed May 18 15:29:21 2022       \n",
            "+-----------------------------------------------------------------------------+\n",
            "| NVIDIA-SMI 460.32.03    Driver Version: 460.32.03    CUDA Version: 11.2     |\n",
            "|-------------------------------+----------------------+----------------------+\n",
            "| GPU  Name        Persistence-M| Bus-Id        Disp.A | Volatile Uncorr. ECC |\n",
            "| Fan  Temp  Perf  Pwr:Usage/Cap|         Memory-Usage | GPU-Util  Compute M. |\n",
            "|                               |                      |               MIG M. |\n",
            "|===============================+======================+======================|\n",
            "|   0  Tesla T4            Off  | 00000000:00:04.0 Off |                    0 |\n",
            "| N/A   37C    P8     9W /  70W |      0MiB / 15109MiB |      0%      Default |\n",
            "|                               |                      |                  N/A |\n",
            "+-------------------------------+----------------------+----------------------+\n",
            "                                                                               \n",
            "+-----------------------------------------------------------------------------+\n",
            "| Processes:                                                                  |\n",
            "|  GPU   GI   CI        PID   Type   Process name                  GPU Memory |\n",
            "|        ID   ID                                                   Usage      |\n",
            "|=============================================================================|\n",
            "|  No running processes found                                                 |\n",
            "+-----------------------------------------------------------------------------+\n"
          ]
        }
      ]
    },
    {
      "cell_type": "code",
      "source": [
        "pip install ethereum"
      ],
      "metadata": {
        "colab": {
          "base_uri": "https://localhost:8080/"
        },
        "id": "y0qg9orYPxOd",
        "outputId": "56269f34-d5c7-4afc-8ded-f2844ed922d7"
      },
      "execution_count": 6,
      "outputs": [
        {
          "output_type": "stream",
          "name": "stdout",
          "text": [
            "Requirement already satisfied: ethereum in /usr/local/lib/python3.7/dist-packages (2.3.2)\n",
            "Requirement already satisfied: pbkdf2 in /usr/local/lib/python3.7/dist-packages (from ethereum) (1.3)\n",
            "Requirement already satisfied: future in /usr/local/lib/python3.7/dist-packages (from ethereum) (0.16.0)\n",
            "Requirement already satisfied: py-ecc in /usr/local/lib/python3.7/dist-packages (from ethereum) (5.2.0)\n",
            "Requirement already satisfied: pycryptodome>=3.4.7 in /usr/local/lib/python3.7/dist-packages (from ethereum) (3.14.1)\n",
            "Requirement already satisfied: repoze.lru in /usr/local/lib/python3.7/dist-packages (from ethereum) (0.7)\n",
            "Requirement already satisfied: scrypt in /usr/local/lib/python3.7/dist-packages (from ethereum) (0.8.20)\n",
            "Requirement already satisfied: coincurve>=7.0.0 in /usr/local/lib/python3.7/dist-packages (from ethereum) (17.0.0)\n",
            "Requirement already satisfied: PyYAML in /usr/local/lib/python3.7/dist-packages (from ethereum) (3.13)\n",
            "Requirement already satisfied: pyethash<1.0.0,>=0.1.27 in /usr/local/lib/python3.7/dist-packages (from ethereum) (0.1.27)\n",
            "Requirement already satisfied: pysha3>=1.0.1 in /usr/local/lib/python3.7/dist-packages (from ethereum) (1.0.2)\n",
            "Requirement already satisfied: rlp<2.0.0,>=1.0.1 in /usr/local/lib/python3.7/dist-packages (from ethereum) (1.2.0)\n",
            "Requirement already satisfied: asn1crypto in /usr/local/lib/python3.7/dist-packages (from coincurve>=7.0.0->ethereum) (1.5.1)\n",
            "Requirement already satisfied: cffi>=1.3.0 in /usr/local/lib/python3.7/dist-packages (from coincurve>=7.0.0->ethereum) (1.15.0)\n",
            "Requirement already satisfied: pycparser in /usr/local/lib/python3.7/dist-packages (from cffi>=1.3.0->coincurve>=7.0.0->ethereum) (2.21)\n",
            "Requirement already satisfied: eth-utils<2,>=1.0.2 in /usr/local/lib/python3.7/dist-packages (from rlp<2.0.0,>=1.0.1->ethereum) (1.10.0)\n",
            "Requirement already satisfied: cytoolz<1.0.0,>=0.10.1 in /usr/local/lib/python3.7/dist-packages (from eth-utils<2,>=1.0.2->rlp<2.0.0,>=1.0.1->ethereum) (0.11.2)\n",
            "Requirement already satisfied: eth-hash<0.4.0,>=0.3.1 in /usr/local/lib/python3.7/dist-packages (from eth-utils<2,>=1.0.2->rlp<2.0.0,>=1.0.1->ethereum) (0.3.2)\n",
            "Requirement already satisfied: eth-typing<3.0.0,>=2.2.1 in /usr/local/lib/python3.7/dist-packages (from eth-utils<2,>=1.0.2->rlp<2.0.0,>=1.0.1->ethereum) (2.3.0)\n",
            "Requirement already satisfied: toolz>=0.8.0 in /usr/local/lib/python3.7/dist-packages (from cytoolz<1.0.0,>=0.10.1->eth-utils<2,>=1.0.2->rlp<2.0.0,>=1.0.1->ethereum) (0.11.2)\n",
            "Requirement already satisfied: cached-property<2,>=1.5.1 in /usr/local/lib/python3.7/dist-packages (from py-ecc->ethereum) (1.5.2)\n",
            "Requirement already satisfied: mypy-extensions>=0.4.1 in /usr/local/lib/python3.7/dist-packages (from py-ecc->ethereum) (0.4.3)\n"
          ]
        }
      ]
    },
    {
      "cell_type": "code",
      "source": [
        "import numba\n",
        "numba.__version__"
      ],
      "metadata": {
        "colab": {
          "base_uri": "https://localhost:8080/",
          "height": 35
        },
        "id": "fkkXJzX_PsuG",
        "outputId": "818543a8-cb17-4d31-ae84-238278c081cc"
      },
      "execution_count": 7,
      "outputs": [
        {
          "output_type": "execute_result",
          "data": {
            "text/plain": [
              "'0.51.2'"
            ],
            "application/vnd.google.colaboratory.intrinsic+json": {
              "type": "string"
            }
          },
          "metadata": {},
          "execution_count": 7
        }
      ]
    },
    {
      "cell_type": "code",
      "source": [
        "#匯入函數庫\n",
        "from ethereum import utils as ut\n",
        "import os\n",
        "from numba import jit\n",
        "import numpy as np\n",
        "from timeit import default_timer as timer\n",
        "\n",
        "#宣告要給GPU工作得東西\n",
        "@jit(nopython=True,parallel=True)\n",
        "def createAddress():\n",
        "  privKey = ut.sha3(os.urandom(4096))\n",
        "  rawAddress = ut.privtoaddr(privKey)\n",
        "  accAddress = ut.checksum_encode(rawAddress)\n",
        "  return privKey, accAddress\n",
        "\n",
        "if __name__==\"__main__\":\n",
        "  tar_text='2FAA'\n",
        "  while True:\n",
        "    start = timer()\n",
        "    privKey, accAddress = createAddress[24,64]()\n",
        "\n",
        "    if tar_text == accAddress[2:2+4]:\n",
        "      accPrivateKey = utils.encode_hex(privKey)\n",
        "      print(\"Found address: {}\".format(accAddress))\n",
        "      print(\"Private Key (hex) {}\".format(accPrivateKey))\n",
        "      print(f\"Time use: {timer()-start} s\")\n",
        "      break"
      ],
      "metadata": {
        "colab": {
          "base_uri": "https://localhost:8080/",
          "height": 237
        },
        "id": "dC1cV67OOUdc",
        "outputId": "374bad98-147c-4a8c-945e-9268b8a3d58d"
      },
      "execution_count": 8,
      "outputs": [
        {
          "output_type": "error",
          "ename": "TypeError",
          "evalue": "ignored",
          "traceback": [
            "\u001b[0;31m---------------------------------------------------------------------------\u001b[0m",
            "\u001b[0;31mTypeError\u001b[0m                                 Traceback (most recent call last)",
            "\u001b[0;32m<ipython-input-8-d43361f2c39f>\u001b[0m in \u001b[0;36m<module>\u001b[0;34m()\u001b[0m\n\u001b[1;32m     18\u001b[0m   \u001b[0;32mwhile\u001b[0m \u001b[0;32mTrue\u001b[0m\u001b[0;34m:\u001b[0m\u001b[0;34m\u001b[0m\u001b[0;34m\u001b[0m\u001b[0m\n\u001b[1;32m     19\u001b[0m     \u001b[0mstart\u001b[0m \u001b[0;34m=\u001b[0m \u001b[0mtimer\u001b[0m\u001b[0;34m(\u001b[0m\u001b[0;34m)\u001b[0m\u001b[0;34m\u001b[0m\u001b[0;34m\u001b[0m\u001b[0m\n\u001b[0;32m---> 20\u001b[0;31m     \u001b[0mprivKey\u001b[0m\u001b[0;34m,\u001b[0m \u001b[0maccAddress\u001b[0m \u001b[0;34m=\u001b[0m \u001b[0mcreateAddress\u001b[0m\u001b[0;34m[\u001b[0m\u001b[0;36m24\u001b[0m\u001b[0;34m,\u001b[0m\u001b[0;36m64\u001b[0m\u001b[0;34m]\u001b[0m\u001b[0;34m(\u001b[0m\u001b[0;34m)\u001b[0m\u001b[0;34m\u001b[0m\u001b[0;34m\u001b[0m\u001b[0m\n\u001b[0m\u001b[1;32m     21\u001b[0m \u001b[0;34m\u001b[0m\u001b[0m\n\u001b[1;32m     22\u001b[0m     \u001b[0;32mif\u001b[0m \u001b[0mtar_text\u001b[0m \u001b[0;34m==\u001b[0m \u001b[0maccAddress\u001b[0m\u001b[0;34m[\u001b[0m\u001b[0;36m2\u001b[0m\u001b[0;34m:\u001b[0m\u001b[0;36m2\u001b[0m\u001b[0;34m+\u001b[0m\u001b[0;36m4\u001b[0m\u001b[0;34m]\u001b[0m\u001b[0;34m:\u001b[0m\u001b[0;34m\u001b[0m\u001b[0;34m\u001b[0m\u001b[0m\n",
            "\u001b[0;31mTypeError\u001b[0m: 'CPUDispatcher' object is not subscriptable"
          ]
        }
      ]
    },
    {
      "cell_type": "code",
      "source": [
        "from numba import jit\n",
        "import math\n",
        "from numpy import square\n",
        "@jit\n",
        "def hypot(x, y):\n",
        "    return math.sqrt(square(x) + square(y))\n",
        "\n",
        "for t in range(1,2000):\n",
        "  hypot(t,t+4)"
      ],
      "metadata": {
        "id": "Vp7GkeryziAD"
      },
      "execution_count": 9,
      "outputs": []
    },
    {
      "cell_type": "markdown",
      "source": [
        "這原本是想用GPU加速算<strong>sha3_256</strong>的方法來暴力解出ETH地址</br>\n",
        "如果使用CPU來算太沒效率</br>\n",
        "經過此次實驗發現，如果要真的寫出破解的程式建議要用<strong>C++</strong></br>\n",
        "原因是<strong>python</strong>的jit套件使用起來ㄧㄡ本是想用GPU加速算<strong>sha3_256</strong>的方法來暴力解出ETH地址</br>\n",
        "如果使用CPU來算太沒效率</br>\n",
        "經過此次實驗發現，如果要真的寫出破解的程式建議要用<strong>C++</strong></br>\n",
        "原因是<strong>python</strong>的jit套件使用起來有些許的bug存在，</br>\n",
        "像是在jit decorator下的func通常不能使用非內建的函數，像是</br>\n",
        "```py\n",
        "from os import urandom\n",
        "```\n",
        "用了就會報錯，不過\n",
        "```py\n",
        "import numpy,math\n",
        "```\n",
        "這些庫的函數可以被傳換成給GPU執行\n",
        "</br>所以未來要試的話可能改成直接用CUDA寫會比較好。"
      ],
      "metadata": {
        "id": "UkcoSz1D50p0"
      }
    }
  ]
}