{
  "nbformat": 4,
  "nbformat_minor": 0,
  "metadata": {
    "colab": {
      "name": "ETH地址對撞機.ipynb",
      "provenance": [],
      "collapsed_sections": [],
      "authorship_tag": "ABX9TyMf4rLvay/BvyyEizwDz5Ui",
      "include_colab_link": true
    },
    "kernelspec": {
      "name": "python3",
      "display_name": "Python 3"
    },
    "language_info": {
      "name": "python"
    },
    "accelerator": "GPU"
  },
  "cells": [
    {
      "cell_type": "markdown",
      "metadata": {
        "id": "view-in-github",
        "colab_type": "text"
      },
      "source": [
        "<a href=\"https://colab.research.google.com/github/hibana2077/Fail-Side-Projects/blob/main/ETH%E5%9C%B0%E5%9D%80%E5%B0%8D%E6%92%9E%E6%A9%9F.ipynb\" target=\"_parent\"><img src=\"https://colab.research.google.com/assets/colab-badge.svg\" alt=\"Open In Colab\"/></a>"
      ]
    },
    {
      "cell_type": "code",
      "source": [
        "pip install web3"
      ],
      "metadata": {
        "colab": {
          "base_uri": "https://localhost:8080/"
        },
        "id": "oqfJop8cRQCF",
        "outputId": "685b4e68-b80b-4213-e83e-347705b5e258"
      },
      "execution_count": 1,
      "outputs": [
        {
          "output_type": "stream",
          "name": "stdout",
          "text": [
            "Collecting web3\n",
            "  Downloading web3-5.29.1-py3-none-any.whl (500 kB)\n",
            "\u001b[K     |████████████████████████████████| 500 kB 30.5 MB/s \n",
            "\u001b[?25hCollecting eth-typing<3.0.0,>=2.0.0\n",
            "  Downloading eth_typing-2.3.0-py3-none-any.whl (6.2 kB)\n",
            "Collecting ipfshttpclient==0.8.0a2\n",
            "  Downloading ipfshttpclient-0.8.0a2-py3-none-any.whl (82 kB)\n",
            "\u001b[K     |████████████████████████████████| 82 kB 1.1 MB/s \n",
            "\u001b[?25hRequirement already satisfied: protobuf<4,>=3.10.0 in /usr/local/lib/python3.7/dist-packages (from web3) (3.17.3)\n",
            "Collecting lru-dict<2.0.0,>=1.1.6\n",
            "  Downloading lru-dict-1.1.7.tar.gz (10 kB)\n",
            "Collecting websockets<10,>=9.1\n",
            "  Downloading websockets-9.1-cp37-cp37m-manylinux2010_x86_64.whl (103 kB)\n",
            "\u001b[K     |████████████████████████████████| 103 kB 71.6 MB/s \n",
            "\u001b[?25hCollecting eth-hash[pycryptodome]<1.0.0,>=0.2.0\n",
            "  Downloading eth_hash-0.3.2-py3-none-any.whl (8.8 kB)\n",
            "Collecting eth-abi<3.0.0,>=2.0.0b6\n",
            "  Downloading eth_abi-2.1.1-py3-none-any.whl (27 kB)\n",
            "Collecting eth-utils<2.0.0,>=1.9.5\n",
            "  Downloading eth_utils-1.10.0-py3-none-any.whl (24 kB)\n",
            "Collecting eth-account<0.6.0,>=0.5.7\n",
            "  Downloading eth_account-0.5.7-py3-none-any.whl (101 kB)\n",
            "\u001b[K     |████████████████████████████████| 101 kB 15.6 MB/s \n",
            "\u001b[?25hRequirement already satisfied: jsonschema<5,>=3.2.0 in /usr/local/lib/python3.7/dist-packages (from web3) (4.3.3)\n",
            "Requirement already satisfied: typing-extensions<5,>=3.7.4.1 in /usr/local/lib/python3.7/dist-packages (from web3) (4.2.0)\n",
            "Collecting aiohttp<4,>=3.7.4.post0\n",
            "  Downloading aiohttp-3.8.1-cp37-cp37m-manylinux_2_5_x86_64.manylinux1_x86_64.manylinux_2_12_x86_64.manylinux2010_x86_64.whl (1.1 MB)\n",
            "\u001b[K     |████████████████████████████████| 1.1 MB 64.2 MB/s \n",
            "\u001b[?25hRequirement already satisfied: requests<3.0.0,>=2.16.0 in /usr/local/lib/python3.7/dist-packages (from web3) (2.23.0)\n",
            "Collecting hexbytes<1.0.0,>=0.1.0\n",
            "  Downloading hexbytes-0.2.2-py3-none-any.whl (6.1 kB)\n",
            "Collecting multiaddr>=0.0.7\n",
            "  Downloading multiaddr-0.0.9-py2.py3-none-any.whl (16 kB)\n",
            "Collecting frozenlist>=1.1.1\n",
            "  Downloading frozenlist-1.3.0-cp37-cp37m-manylinux_2_5_x86_64.manylinux1_x86_64.manylinux_2_17_x86_64.manylinux2014_x86_64.whl (144 kB)\n",
            "\u001b[K     |████████████████████████████████| 144 kB 75.0 MB/s \n",
            "\u001b[?25hCollecting multidict<7.0,>=4.5\n",
            "  Downloading multidict-6.0.2-cp37-cp37m-manylinux_2_17_x86_64.manylinux2014_x86_64.whl (94 kB)\n",
            "\u001b[K     |████████████████████████████████| 94 kB 3.4 MB/s \n",
            "\u001b[?25hCollecting yarl<2.0,>=1.0\n",
            "  Downloading yarl-1.7.2-cp37-cp37m-manylinux_2_5_x86_64.manylinux1_x86_64.manylinux_2_12_x86_64.manylinux2010_x86_64.whl (271 kB)\n",
            "\u001b[K     |████████████████████████████████| 271 kB 55.2 MB/s \n",
            "\u001b[?25hCollecting aiosignal>=1.1.2\n",
            "  Downloading aiosignal-1.2.0-py3-none-any.whl (8.2 kB)\n",
            "Collecting async-timeout<5.0,>=4.0.0a3\n",
            "  Downloading async_timeout-4.0.2-py3-none-any.whl (5.8 kB)\n",
            "Requirement already satisfied: attrs>=17.3.0 in /usr/local/lib/python3.7/dist-packages (from aiohttp<4,>=3.7.4.post0->web3) (21.4.0)\n",
            "Collecting asynctest==0.13.0\n",
            "  Downloading asynctest-0.13.0-py3-none-any.whl (26 kB)\n",
            "Requirement already satisfied: charset-normalizer<3.0,>=2.0 in /usr/local/lib/python3.7/dist-packages (from aiohttp<4,>=3.7.4.post0->web3) (2.0.12)\n",
            "Collecting parsimonious<0.9.0,>=0.8.0\n",
            "  Downloading parsimonious-0.8.1.tar.gz (45 kB)\n",
            "\u001b[K     |████████████████████████████████| 45 kB 3.6 MB/s \n",
            "\u001b[?25hCollecting eth-keys<0.4.0,>=0.3.4\n",
            "  Downloading eth_keys-0.3.4-py3-none-any.whl (21 kB)\n",
            "Collecting eth-keyfile<0.6.0,>=0.5.0\n",
            "  Downloading eth_keyfile-0.5.1-py3-none-any.whl (8.3 kB)\n",
            "Collecting bitarray<1.3.0,>=1.2.1\n",
            "  Downloading bitarray-1.2.2.tar.gz (48 kB)\n",
            "\u001b[K     |████████████████████████████████| 48 kB 2.2 MB/s \n",
            "\u001b[?25hCollecting eth-rlp<2,>=0.1.2\n",
            "  Downloading eth_rlp-0.3.0-py3-none-any.whl (5.0 kB)\n",
            "Collecting rlp<3,>=1.0.0\n",
            "  Downloading rlp-2.0.1-py2.py3-none-any.whl (20 kB)\n",
            "Collecting pycryptodome<4,>=3.6.6\n",
            "  Downloading pycryptodome-3.14.1-cp35-abi3-manylinux2010_x86_64.whl (2.0 MB)\n",
            "\u001b[K     |████████████████████████████████| 2.0 MB 73.4 MB/s \n",
            "\u001b[?25hCollecting cytoolz<1.0.0,>=0.9.0\n",
            "  Downloading cytoolz-0.11.2.tar.gz (481 kB)\n",
            "\u001b[K     |████████████████████████████████| 481 kB 78.0 MB/s \n",
            "\u001b[?25hRequirement already satisfied: toolz>=0.8.0 in /usr/local/lib/python3.7/dist-packages (from cytoolz<1.0.0,>=0.9.0->eth-keyfile<0.6.0,>=0.5.0->eth-account<0.6.0,>=0.5.7->web3) (0.11.2)\n",
            "Collecting eth-rlp<2,>=0.1.2\n",
            "  Downloading eth_rlp-0.2.1-py3-none-any.whl (5.0 kB)\n",
            "Requirement already satisfied: importlib-metadata in /usr/local/lib/python3.7/dist-packages (from jsonschema<5,>=3.2.0->web3) (4.11.3)\n",
            "Requirement already satisfied: importlib-resources>=1.4.0 in /usr/local/lib/python3.7/dist-packages (from jsonschema<5,>=3.2.0->web3) (5.7.1)\n",
            "Requirement already satisfied: pyrsistent!=0.17.0,!=0.17.1,!=0.17.2,>=0.14.0 in /usr/local/lib/python3.7/dist-packages (from jsonschema<5,>=3.2.0->web3) (0.18.1)\n",
            "Requirement already satisfied: zipp>=3.1.0 in /usr/local/lib/python3.7/dist-packages (from importlib-resources>=1.4.0->jsonschema<5,>=3.2.0->web3) (3.8.0)\n",
            "Collecting base58\n",
            "  Downloading base58-2.1.1-py3-none-any.whl (5.6 kB)\n",
            "Collecting varint\n",
            "  Downloading varint-1.0.2.tar.gz (1.9 kB)\n",
            "Collecting netaddr\n",
            "  Downloading netaddr-0.8.0-py2.py3-none-any.whl (1.9 MB)\n",
            "\u001b[K     |████████████████████████████████| 1.9 MB 60.2 MB/s \n",
            "\u001b[?25hRequirement already satisfied: six in /usr/local/lib/python3.7/dist-packages (from multiaddr>=0.0.7->ipfshttpclient==0.8.0a2->web3) (1.15.0)\n",
            "Requirement already satisfied: urllib3!=1.25.0,!=1.25.1,<1.26,>=1.21.1 in /usr/local/lib/python3.7/dist-packages (from requests<3.0.0,>=2.16.0->web3) (1.24.3)\n",
            "Requirement already satisfied: chardet<4,>=3.0.2 in /usr/local/lib/python3.7/dist-packages (from requests<3.0.0,>=2.16.0->web3) (3.0.4)\n",
            "Requirement already satisfied: certifi>=2017.4.17 in /usr/local/lib/python3.7/dist-packages (from requests<3.0.0,>=2.16.0->web3) (2021.10.8)\n",
            "Requirement already satisfied: idna<3,>=2.5 in /usr/local/lib/python3.7/dist-packages (from requests<3.0.0,>=2.16.0->web3) (2.10)\n",
            "Building wheels for collected packages: bitarray, cytoolz, lru-dict, parsimonious, varint\n",
            "  Building wheel for bitarray (setup.py) ... \u001b[?25l\u001b[?25hdone\n",
            "  Created wheel for bitarray: filename=bitarray-1.2.2-cp37-cp37m-linux_x86_64.whl size=106994 sha256=149e65b33149186b5c4de26ebbc28340970d3336ce1f6f4c07dd2bd52ef0acab\n",
            "  Stored in directory: /root/.cache/pip/wheels/91/c8/a0/4fb7317b7072d4b6a4366454e5bf229ff5bb9ba1f7de8ef90d\n",
            "  Building wheel for cytoolz (setup.py) ... \u001b[?25l\u001b[?25hdone\n",
            "  Created wheel for cytoolz: filename=cytoolz-0.11.2-cp37-cp37m-linux_x86_64.whl size=1236738 sha256=74d468f6fbd93c6c3a24404fbc451a53a0d218d3eeeb9758a47dc55756331be6\n",
            "  Stored in directory: /root/.cache/pip/wheels/38/70/71/ca13ea3d36ccd0b3d0ec7d7a4ca67522048d695b556bba4f59\n",
            "  Building wheel for lru-dict (setup.py) ... \u001b[?25l\u001b[?25hdone\n",
            "  Created wheel for lru-dict: filename=lru_dict-1.1.7-cp37-cp37m-linux_x86_64.whl size=28429 sha256=4dfe48a51fe767f78d1cf958f8870a518a095d03dc0130b76d60ea5c91c0436c\n",
            "  Stored in directory: /root/.cache/pip/wheels/9d/0b/4e/aa8fec9833090cd52bcd76f92f9d95e1ee7b915c12093663b4\n",
            "  Building wheel for parsimonious (setup.py) ... \u001b[?25l\u001b[?25hdone\n",
            "  Created wheel for parsimonious: filename=parsimonious-0.8.1-py3-none-any.whl size=42723 sha256=c5a8ae18f0f78c12f730496803bc8ef89ef0f8a6ded668f8ad240a785dce004c\n",
            "  Stored in directory: /root/.cache/pip/wheels/88/5d/ba/f27d8af07306b65ee44f9d3f9cadea1db749a421a6db8a99bf\n",
            "  Building wheel for varint (setup.py) ... \u001b[?25l\u001b[?25hdone\n",
            "  Created wheel for varint: filename=varint-1.0.2-py3-none-any.whl size=1980 sha256=f23b1671e8e58f37f1ec1912541ddfb35a12896791fdef06551dc9f35c37f7a9\n",
            "  Stored in directory: /root/.cache/pip/wheels/69/21/07/09f1c6a7d9b59377aa6d98da6efdd670f7ca40aabd93d02704\n",
            "Successfully built bitarray cytoolz lru-dict parsimonious varint\n",
            "Installing collected packages: eth-typing, eth-hash, cytoolz, eth-utils, varint, rlp, pycryptodome, parsimonious, netaddr, multidict, hexbytes, frozenlist, eth-keys, base58, yarl, multiaddr, eth-rlp, eth-keyfile, eth-abi, bitarray, asynctest, async-timeout, aiosignal, websockets, lru-dict, ipfshttpclient, eth-account, aiohttp, web3\n",
            "Successfully installed aiohttp-3.8.1 aiosignal-1.2.0 async-timeout-4.0.2 asynctest-0.13.0 base58-2.1.1 bitarray-1.2.2 cytoolz-0.11.2 eth-abi-2.1.1 eth-account-0.5.7 eth-hash-0.3.2 eth-keyfile-0.5.1 eth-keys-0.3.4 eth-rlp-0.2.1 eth-typing-2.3.0 eth-utils-1.10.0 frozenlist-1.3.0 hexbytes-0.2.2 ipfshttpclient-0.8.0a2 lru-dict-1.1.7 multiaddr-0.0.9 multidict-6.0.2 netaddr-0.8.0 parsimonious-0.8.1 pycryptodome-3.14.1 rlp-2.0.1 varint-1.0.2 web3-5.29.1 websockets-9.1 yarl-1.7.2\n"
          ]
        }
      ]
    },
    {
      "cell_type": "code",
      "source": [
        "pip install numba"
      ],
      "metadata": {
        "colab": {
          "base_uri": "https://localhost:8080/"
        },
        "id": "u4QgXYQiNaip",
        "outputId": "ccfd0681-636f-41e2-f453-38d6ed1a6f8a"
      },
      "execution_count": 2,
      "outputs": [
        {
          "output_type": "stream",
          "name": "stdout",
          "text": [
            "Requirement already satisfied: numba in /usr/local/lib/python3.7/dist-packages (0.51.2)\n",
            "Requirement already satisfied: numpy>=1.15 in /usr/local/lib/python3.7/dist-packages (from numba) (1.21.6)\n",
            "Requirement already satisfied: llvmlite<0.35,>=0.34.0.dev0 in /usr/local/lib/python3.7/dist-packages (from numba) (0.34.0)\n",
            "Requirement already satisfied: setuptools in /usr/local/lib/python3.7/dist-packages (from numba) (57.4.0)\n"
          ]
        }
      ]
    },
    {
      "cell_type": "code",
      "source": [
        "!nvidia-smi"
      ],
      "metadata": {
        "colab": {
          "base_uri": "https://localhost:8080/"
        },
        "id": "XQ3GhS2-foSM",
        "outputId": "46b6f503-f2f7-47cd-d34c-379fc577ebd7"
      },
      "execution_count": 3,
      "outputs": [
        {
          "output_type": "stream",
          "name": "stdout",
          "text": [
            "Sat May 21 09:44:44 2022       \n",
            "+-----------------------------------------------------------------------------+\n",
            "| NVIDIA-SMI 460.32.03    Driver Version: 460.32.03    CUDA Version: 11.2     |\n",
            "|-------------------------------+----------------------+----------------------+\n",
            "| GPU  Name        Persistence-M| Bus-Id        Disp.A | Volatile Uncorr. ECC |\n",
            "| Fan  Temp  Perf  Pwr:Usage/Cap|         Memory-Usage | GPU-Util  Compute M. |\n",
            "|                               |                      |               MIG M. |\n",
            "|===============================+======================+======================|\n",
            "|   0  Tesla T4            Off  | 00000000:00:04.0 Off |                    0 |\n",
            "| N/A   37C    P8     9W /  70W |      0MiB / 15109MiB |      0%      Default |\n",
            "|                               |                      |                  N/A |\n",
            "+-------------------------------+----------------------+----------------------+\n",
            "                                                                               \n",
            "+-----------------------------------------------------------------------------+\n",
            "| Processes:                                                                  |\n",
            "|  GPU   GI   CI        PID   Type   Process name                  GPU Memory |\n",
            "|        ID   ID                                                   Usage      |\n",
            "|=============================================================================|\n",
            "|  No running processes found                                                 |\n",
            "+-----------------------------------------------------------------------------+\n"
          ]
        }
      ]
    },
    {
      "cell_type": "code",
      "source": [
        "#匯入函數庫\n",
        "from time import sleep\n",
        "from eth_account import Account\n",
        "from timeit import default_timer as timer\n",
        "import secrets,json\n",
        "import multiprocessing as mp\n",
        "from numba import jit\n",
        "from web3 import Web3\n",
        "\n",
        "#連接到驗證者節點\n",
        "w3=Web3(Web3.HTTPProvider('https://mainnet.infura.io/v3/266d6666109642809dd805fd7ac6d4d1'))\n",
        "\n",
        "#確認連線\n",
        "if w3.isConnected():print(\"已確認連線! 5秒後開始對撞!\")\n",
        "else:print(\"ERROR!\")\n",
        "sleep(5)\n",
        "\n",
        "#函數\n",
        "def createAddress():#CPU\n",
        "  priv = secrets.token_hex(32)\n",
        "  private_key = \"0x\" + priv\n",
        "  acct = Account.from_key(private_key)\n",
        "  return private_key, acct.address\n",
        "\n",
        "@jit\n",
        "def countbalance(a):\n",
        "  return a/(10**18)\n",
        "\n",
        "#multiprocessing \n",
        "def task1(useless):\n",
        "    start=timer()\n",
        "    pk,ad=createAddress()\n",
        "\n",
        "    bal=countbalance(w3.eth.get_balance(ad))\n",
        "    if bal>0:\n",
        "        print(f\"private_key:{pk}\\n address:{ad} \\n time using:{timer()-start} s\")\n",
        "        addressdata=dict(json.load(open(\"addressdata.json\",'r')))\n",
        "        addressdata[pk]=ad\n",
        "        file=open(\"addressdata.json\",'w')\n",
        "        json.dump(addressdata,file)\n",
        "        file.close()\n",
        "\n",
        "    else:\n",
        "        print(f\"no money! this addres balance:{bal} Ether ,timeusing:{timer()-start} s address:{ad} private_key:{pk}\")\n",
        "        start=timer()\n",
        "    return 0\n",
        "\n",
        "if __name__=='__main__':\n",
        "    while True:\n",
        "        num_process = mp.cpu_count()\n",
        "        process_list = []\n",
        "        for i in range(num_process):\n",
        "            process_list.append(mp.Process(target = task1, args = (i,)))\n",
        "            process_list[i].start()\n",
        "\n",
        "        for i in range(num_process):\n",
        "            process_list[i].join()"
      ],
      "metadata": {
        "id": "dqBfcB2lFY5e"
      },
      "execution_count": null,
      "outputs": []
    },
    {
      "cell_type": "code",
      "source": [
        "from numba import jit\n",
        "import secrets\n",
        "from timeit import default_timer as timer\n",
        "\n",
        "#一千萬筆資料\n",
        "\n",
        "@jit\n",
        "def compare():\n",
        "  priv = 9999**9999\n",
        "  return 0\n",
        "\n",
        "def compare1():\n",
        "  priv = 9999**9999\n",
        "  return 0\n",
        "\n",
        "if __name__==\"__main__\":\n",
        "  s=timer()\n",
        "  for t in range(10000):\n",
        "    compare()\n",
        "  s1=timer()\n",
        "  for t in range(10000):\n",
        "    compare1()\n",
        "  print(f\"GPU:{s1-s}s CPU:{timer()-s1}s\")"
      ],
      "metadata": {
        "colab": {
          "base_uri": "https://localhost:8080/"
        },
        "id": "mwyc4XKZNvIx",
        "outputId": "5e2a79d0-a79b-4ee1-cc22-c6cf6f8a9e51"
      },
      "execution_count": 4,
      "outputs": [
        {
          "output_type": "stream",
          "name": "stdout",
          "text": [
            "GPU:0.18232175299999653s CPU:18.40649147199997s\n"
          ]
        }
      ]
    }
  ]
}